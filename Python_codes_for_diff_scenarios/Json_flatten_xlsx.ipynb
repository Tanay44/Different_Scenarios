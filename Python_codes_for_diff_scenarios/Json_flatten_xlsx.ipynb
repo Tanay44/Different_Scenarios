{
  "nbformat": 4,
  "nbformat_minor": 0,
  "metadata": {
    "colab": {
      "name": "Json_flatten_xlsx.ipynb",
      "provenance": []
    },
    "kernelspec": {
      "name": "python3",
      "display_name": "Python 3"
    },
    "language_info": {
      "name": "python"
    }
  },
  "cells": [
    {
      "cell_type": "markdown",
      "source": [
        "## Impport Libraries"
      ],
      "metadata": {
        "id": "g8L6PRaRWdS9"
      }
    },
    {
      "cell_type": "code",
      "execution_count": null,
      "metadata": {
        "id": "R7fF6o3MWDkX"
      },
      "outputs": [],
      "source": [
        "import json\n",
        "import pandas as pd\n",
        "from itertools import repeat"
      ]
    },
    {
      "cell_type": "markdown",
      "source": [
        "## Create f'n to read json data"
      ],
      "metadata": {
        "id": "WhBZ69etWhD1"
      }
    },
    {
      "cell_type": "code",
      "source": [
        "def read_json(filename: str) -> dict:\n",
        "    try:\n",
        "        with open(filename, \"r\") as f:\n",
        "            data = json.loads(f.read())\n",
        "    except FileNotFoundError as e:\n",
        "        raise Exception(f\"Reading {filename} file encountered an error\" + str(e))\n",
        "    return data"
      ],
      "metadata": {
        "id": "x2srGJ-CWcNx"
      },
      "execution_count": null,
      "outputs": []
    },
    {
      "cell_type": "markdown",
      "source": [
        "## Create f'n to normalize json data"
      ],
      "metadata": {
        "id": "mPO1LX46Wp48"
      }
    },
    {
      "cell_type": "code",
      "source": [
        "def normalize_json(data: dict):\n",
        "    main_menu_name = ''\n",
        "    main_menu_item_id = ''\n",
        "    menu_names_list = []\n",
        "    menu_values_list = []\n",
        "    menu_item_ids_list = []\n",
        "    menu_item_names_list = []\n",
        "    menu_names_final = []\n",
        "    menu_levels_list = []\n",
        "    i = 0\n",
        "    for key, value in data.items():\n",
        "        main_menu_name = key\n",
        "        if isinstance(value, dict):\n",
        "            for k, v in value.items():\n",
        "                if k != 'ITEMID':\n",
        "                    menu_names_list.append(k)\n",
        "                    menu_values_list.append(v)\n",
        "                else:\n",
        "                    main_menu_item_id = v\n",
        "    x = 0\n",
        "    df = pd.DataFrame()\n",
        "    df['menu_name'] = [main_menu_name]\n",
        "    df['item_id'] = [main_menu_item_id]\n",
        "    df['menu_level'] = [0]\n",
        "    df['main_menu_level'] = ['root']\n",
        "\n",
        "    while x < len(menu_names_list):\n",
        "        menu_names_final.clear()\n",
        "        menu_item_names_list.clear()\n",
        "        menu_item_ids_list.clear()\n",
        "        menu_levels_list.clear()\n",
        "        menu_df = prepare_data(menu_names_list, menu_values_list, menu_item_names_list, menu_item_ids_list,\n",
        "                               menu_names_final, menu_levels_list, x, i, x)\n",
        "        df = df.append(menu_df)\n",
        "        x = x + 1\n",
        "    df.to_excel('output_articlexl.xlsx')"
      ],
      "metadata": {
        "id": "0NeTs-u0WpEo"
      },
      "execution_count": null,
      "outputs": []
    },
    {
      "cell_type": "markdown",
      "source": [
        "## Create f'n to append levels of json data"
      ],
      "metadata": {
        "id": "Th6UZeCPW1fe"
      }
    },
    {
      "cell_type": "code",
      "source": [
        "def menu_definition(data: dict, menu_names: list, menu_items: list, menu_levels: list, level) -> list:\n",
        "    menu_names_list = menu_names\n",
        "    menu_items_list = menu_items\n",
        "    manu_levels_list = menu_levels\n",
        "    menu = []\n",
        "    menu.append(menu_names)\n",
        "    menu.append(menu_items)\n",
        "    menu.append(menu_levels)\n",
        "    level = level\n",
        "    if isinstance(data, dict):\n",
        "        level = level + 1\n",
        "        for k, v in data.items():\n",
        "            if k != 'ITEMID':\n",
        "                menu_names_list.append(k)\n",
        "                if isinstance(v, dict):\n",
        "                    menu_definition(v, menu_names_list, menu_items_list, manu_levels_list, level)\n",
        "                else:\n",
        "                    print('not a dict')\n",
        "            else:\n",
        "                menu_levels.append(level)\n",
        "                menu_items_list.append(v)\n",
        "    return menu"
      ],
      "metadata": {
        "id": "E3d8g04zW0r9"
      },
      "execution_count": null,
      "outputs": []
    },
    {
      "cell_type": "markdown",
      "source": [
        "## Create f'n to add columns in df "
      ],
      "metadata": {
        "id": "3JTGLLu0XJd8"
      }
    },
    {
      "cell_type": "code",
      "source": [
        "def prepare_data(menu_names_list: list, menu_values_list: list, menu_item_names_list: list, menu_item_ids_list: list,\n",
        "                 menu_names_final: list, menu_levels_list, x, level, main_menu_level):\n",
        "    menu_names_final.append(menu_names_list[x])\n",
        "    menu = menu_definition(menu_values_list[x], menu_item_names_list, menu_item_ids_list, menu_levels_list, level)\n",
        "    menu_names_final.extend(menu[0])\n",
        "    main_menu_level_list = []\n",
        "    main_menu_level_list.extend(repeat(main_menu_level, len(menu_names_final)))\n",
        "    df = pd.DataFrame()\n",
        "    df['menu_name'] = menu_names_final\n",
        "    df['item_id'] = menu[1]\n",
        "    df['menu_level'] = menu[2]\n",
        "    df['main_menu_level'] = main_menu_level_list\n",
        "    return df"
      ],
      "metadata": {
        "id": "DcW0yuqsXUJJ"
      },
      "execution_count": null,
      "outputs": []
    },
    {
      "cell_type": "markdown",
      "source": [
        "## Create f'n to provide file name & normalize that data with above f'n"
      ],
      "metadata": {
        "id": "FGbIvRx-XVzE"
      }
    },
    {
      "cell_type": "code",
      "source": [
        "def main():\n",
        "    # Read the JSON file as python dictionary\n",
        "    data = read_json(filename=\"/content/drive/MyDrive/colab datset/article.json\")\n",
        "\n",
        "    # Normalize the nested python dict\n",
        "    normalize_json(data=data)"
      ],
      "metadata": {
        "id": "2JixSweTXU_G"
      },
      "execution_count": null,
      "outputs": []
    },
    {
      "cell_type": "markdown",
      "source": [
        "## Assigning variable to our custom module"
      ],
      "metadata": {
        "id": "jYXwU8e0twEV"
      }
    },
    {
      "cell_type": "code",
      "source": [
        "if __name__ == '__main__':\n",
        "    main()"
      ],
      "metadata": {
        "id": "lpnMbcc7XlCy"
      },
      "execution_count": null,
      "outputs": []
    },
    {
      "cell_type": "code",
      "source": [
        ""
      ],
      "metadata": {
        "id": "WNQWskFHg6bN"
      },
      "execution_count": null,
      "outputs": []
    }
  ]
}